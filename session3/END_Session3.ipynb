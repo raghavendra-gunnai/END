{
  "nbformat": 4,
  "nbformat_minor": 0,
  "metadata": {
    "colab": {
      "name": "END_Session3.ipynb",
      "provenance": [],
      "collapsed_sections": [],
      "authorship_tag": "ABX9TyN9t6u/BWzXIccAgmCtIGGh",
      "include_colab_link": true
    },
    "kernelspec": {
      "name": "python3",
      "display_name": "Python 3"
    }
  },
  "cells": [
    {
      "cell_type": "markdown",
      "metadata": {
        "id": "view-in-github",
        "colab_type": "text"
      },
      "source": [
        "<a href=\"https://colab.research.google.com/github/bzbeaver/END_Session3/blob/main/END_Session3.ipynb\" target=\"_parent\"><img src=\"https://colab.research.google.com/assets/colab-badge.svg\" alt=\"Open In Colab\"/></a>"
      ]
    },
    {
      "cell_type": "code",
      "metadata": {
        "id": "B1WB7Wi6VlnQ"
      },
      "source": [
        "# imports\n",
        "import numpy as np\n",
        "import re\n",
        "from functools import reduce, partial\n",
        "import random, string"
      ],
      "execution_count": 32,
      "outputs": []
    },
    {
      "cell_type": "markdown",
      "metadata": {
        "id": "b63WLOgQUDZr"
      },
      "source": [
        "## 1.\n",
        "\n",
        "Write a function using only list filter lambda that can tell whether a number is a Fibonacci number or not. You can use a pre-calculated list/dict to store fab numbers till 10000"
      ]
    },
    {
      "cell_type": "code",
      "metadata": {
        "id": "kXVGgeXEUABs"
      },
      "source": [
        "def is_fibonacci(someiter):\n",
        "    \"\"\"Function checks if a given number is a fibonacci number.\n",
        "       When an iterable is given as input it returns a list of numbers which are in Fibonacci series\n",
        "    Args:\n",
        "        someiter (int or iterable): a number or an iterable\n",
        "    \"\"\"\n",
        "    def is_fib(somenum):\n",
        "        \"\"\"Function check if a given number is a fibonacci number\n",
        "        Args:\n",
        "            somenum (int): a number\n",
        "        Returns:\n",
        "            Boolean : Whether number or iterable is in Fibonacci numbers\n",
        "        \"\"\"\n",
        "        def fib(n): return n if n < 2 else fib(n-1) + fib(n-2)\n",
        "        fib_num = [fib(x) for x in range(22)]\n",
        "        return somenum in fib_num\n",
        "\n",
        "    if isinstance(someiter, int):\n",
        "        return is_fib(someiter)\n",
        "\n",
        "    filtered = list(filter(is_fib, someiter))\n",
        "    if len(filtered):\n",
        "        return filtered\n",
        "    else:\n",
        "        return False\n"
      ],
      "execution_count": 6,
      "outputs": []
    },
    {
      "cell_type": "code",
      "metadata": {
        "id": "PycPNalHUL-e",
        "outputId": "6310dcb0-3e86-4088-f635-fe742af155c7",
        "colab": {
          "base_uri": "https://localhost:8080/"
        }
      },
      "source": [
        "is_fibonacci(5)"
      ],
      "execution_count": 7,
      "outputs": [
        {
          "output_type": "execute_result",
          "data": {
            "text/plain": [
              "True"
            ]
          },
          "metadata": {
            "tags": []
          },
          "execution_count": 7
        }
      ]
    },
    {
      "cell_type": "markdown",
      "metadata": {
        "id": "x715Dk5TVBy0"
      },
      "source": [
        "\n",
        "## 2.\n",
        " Using list comprehension (and zip/lambda/etc if required) write five different expressions that: PTS:100\n",
        "* add 2 iterables a and b such that a is even and b is odd\n",
        "* strips every vowel from a string provided (tsai>>t s)\n",
        "* acts like a ReLU function for a 1D array\n",
        "* acts like a sigmoid function for a 1D array\n",
        "* takes a small character string and shifts all characters by 5 (handle boundary conditions) tsai>>yxfn\n",
        "\n",
        "\n"
      ]
    },
    {
      "cell_type": "code",
      "metadata": {
        "id": "IPdt3A7NUbIC",
        "outputId": "2f7d9b66-10ef-4299-de4d-f059405f914a",
        "colab": {
          "base_uri": "https://localhost:8080/"
        }
      },
      "source": [
        "# 2.1\n",
        "l1 = [1, 2, 3]\n",
        "l2 = [2, 3, 4]\n",
        "[a + b for a, b in zip(l1, l2) if (a % 2 == 0) and (b % 2 != 0)]"
      ],
      "execution_count": 8,
      "outputs": [
        {
          "output_type": "execute_result",
          "data": {
            "text/plain": [
              "[5]"
            ]
          },
          "metadata": {
            "tags": []
          },
          "execution_count": 8
        }
      ]
    },
    {
      "cell_type": "code",
      "metadata": {
        "id": "P3LllFNCVFVR",
        "outputId": "f3a8d0fe-9036-45e1-e5bd-26f27847deda",
        "colab": {
          "base_uri": "https://localhost:8080/"
        }
      },
      "source": [
        "# 2.2\n",
        "vowels = ['a', 'i', 'e', 'o', 'u']\n",
        "somestring = 'dinesh'\n",
        "print(' '.join([x for x in somestring if x not in vowels]))"
      ],
      "execution_count": 9,
      "outputs": [
        {
          "output_type": "stream",
          "text": [
            "d n s h\n"
          ],
          "name": "stdout"
        }
      ]
    },
    {
      "cell_type": "code",
      "metadata": {
        "id": "UoA191tjVP2j",
        "outputId": "66f58e83-6521-4f5c-c228-176267d1235c",
        "colab": {
          "base_uri": "https://localhost:8080/"
        }
      },
      "source": [
        "# 2.3\n",
        "somelist = [0, 3, -2, 4, -5]\n",
        "otherlist = range(-3, 3)\n",
        "def relu(x): return max(0, x)\n",
        "\n",
        "print([relu(x) for x in list(filter(lambda x: x >= 0, somelist))])\n",
        "print([relu(x) for x in list(filter(lambda x: x >= 0, otherlist))])"
      ],
      "execution_count": 12,
      "outputs": [
        {
          "output_type": "stream",
          "text": [
            "[0, 3, 4]\n",
            "[0, 1, 2]\n"
          ],
          "name": "stdout"
        }
      ]
    },
    {
      "cell_type": "code",
      "metadata": {
        "id": "EjRkpmVpVTHq",
        "outputId": "880ba3ae-7950-4883-8168-d6e027ef62d4",
        "colab": {
          "base_uri": "https://localhost:8080/"
        }
      },
      "source": [
        "# 2.4\n",
        "\n",
        "def sigmoid(x): return 1/(1 + np.exp(-x))\n",
        "\n",
        "somelist = [1, 3, 5]\n",
        "[sigmoid(x) for x in somelist]"
      ],
      "execution_count": 15,
      "outputs": [
        {
          "output_type": "execute_result",
          "data": {
            "text/plain": [
              "[0.7310585786300049, 0.9525741268224334, 0.9933071490757153]"
            ]
          },
          "metadata": {
            "tags": []
          },
          "execution_count": 15
        }
      ]
    },
    {
      "cell_type": "code",
      "metadata": {
        "id": "Og0FJQWsVj-m",
        "outputId": "940c8b4f-4e3d-4ffb-a7ac-2bd8b722b31a",
        "colab": {
          "base_uri": "https://localhost:8080/",
          "height": 35
        }
      },
      "source": [
        "# 2.5\n",
        "\n",
        "def shift(x): return chr(ord(x) + 5)\n",
        "\n",
        "somestring = 'tsai'\n",
        "last_alpha = ['v', 'w', 'x', 'y', 'z']\n",
        "numlist = list(range(97, 102))\n",
        "somedict = dict(zip(last_alpha, numlist))\n",
        "''.join([shift(x) if ord(x) < 118 else chr(somedict[x])\n",
        "         for x in somestring.lower()])"
      ],
      "execution_count": 16,
      "outputs": [
        {
          "output_type": "execute_result",
          "data": {
            "application/vnd.google.colaboratory.intrinsic+json": {
              "type": "string"
            },
            "text/plain": [
              "'yxfn'"
            ]
          },
          "metadata": {
            "tags": []
          },
          "execution_count": 16
        }
      ]
    },
    {
      "cell_type": "markdown",
      "metadata": {
        "id": "g19eYM42VwmK"
      },
      "source": [
        "## 3.\n",
        "A list comprehension expression that takes a ~200 word paragraph (write your own paragraph to check), and checks whether it has any of the swear words mentioned in https://github.com/RobertJGabriel/Google-profanity-words/blob/master/list.txt PTS:200"
      ]
    },
    {
      "cell_type": "code",
      "metadata": {
        "id": "pTaG_mDvVwGD"
      },
      "source": [
        "# 3.\n",
        "swears = '''\n",
        "4r5e\n",
        "5h1t\n",
        "5hit\n",
        "a55\n",
        "anal\n",
        "anus\n",
        "ar5e\n",
        "arrse\n",
        "arse\n",
        "ass\n",
        "ass-fucker\n",
        "asses\n",
        "assfucker\n",
        "assfukka\n",
        "asshole\n",
        "assholes\n",
        "asswhole\n",
        "a_s_s\n",
        "b!tch\n",
        "b00bs\n",
        "b17ch\n",
        "b1tch\n",
        "ballbag\n",
        "balls\n",
        "ballsack\n",
        "bastard\n",
        "beastial\n",
        "beastiality\n",
        "bellend\n",
        "bestial\n",
        "bestiality\n",
        "bi+ch\n",
        "biatch\n",
        "bitch\n",
        "bitcher\n",
        "bitchers\n",
        "bitches\n",
        "bitchin\n",
        "bitching\n",
        "bloody\n",
        "blow job\n",
        "blowjob\n",
        "blowjobs\n",
        "boiolas\n",
        "bollock\n",
        "bollok\n",
        "boner\n",
        "boob\n",
        "boobs\n",
        "booobs\n",
        "boooobs\n",
        "booooobs\n",
        "booooooobs\n",
        "breasts\n",
        "buceta\n",
        "bugger\n",
        "bum\n",
        "bunny fucker\n",
        "butt\n",
        "butthole\n",
        "buttmunch\n",
        "buttplug\n",
        "c0ck\n",
        "c0cksucker\n",
        "carpet muncher\n",
        "cawk\n",
        "chink\n",
        "cipa\n",
        "cl1t\n",
        "clit\n",
        "clitoris\n",
        "clits\n",
        "cnut\n",
        "cock\n",
        "cock-sucker\n",
        "cockface\n",
        "cockhead\n",
        "cockmunch\n",
        "cockmuncher\n",
        "cocks\n",
        "cocksuck \n",
        "cocksucked \n",
        "cocksucker\n",
        "cocksucking\n",
        "cocksucks \n",
        "cocksuka\n",
        "cocksukka\n",
        "cok\n",
        "cokmuncher\n",
        "coksucka\n",
        "coon\n",
        "cox\n",
        "crap\n",
        "cum\n",
        "cummer\n",
        "cumming\n",
        "cums\n",
        "cumshot\n",
        "cunilingus\n",
        "cunillingus\n",
        "cunnilingus\n",
        "cunt\n",
        "cuntlick \n",
        "cuntlicker \n",
        "cuntlicking \n",
        "cunts\n",
        "cyalis\n",
        "cyberfuc\n",
        "cyberfuck \n",
        "cyberfucked \n",
        "cyberfucker\n",
        "cyberfuckers\n",
        "cyberfucking \n",
        "d1ck\n",
        "damn\n",
        "dick\n",
        "dickhead\n",
        "dildo\n",
        "dildos\n",
        "dink\n",
        "dinks\n",
        "dirsa\n",
        "dlck\n",
        "dog-fucker\n",
        "doggin\n",
        "dogging\n",
        "donkeyribber\n",
        "doosh\n",
        "duche\n",
        "dyke\n",
        "ejaculate\n",
        "ejaculated\n",
        "ejaculates \n",
        "ejaculating \n",
        "ejaculatings\n",
        "ejaculation\n",
        "ejakulate\n",
        "f u c k\n",
        "f u c k e r\n",
        "f4nny\n",
        "fag\n",
        "fagging\n",
        "faggitt\n",
        "faggot\n",
        "faggs\n",
        "fagot\n",
        "fagots\n",
        "fags\n",
        "fanny\n",
        "fannyflaps\n",
        "fannyfucker\n",
        "fanyy\n",
        "fatass\n",
        "fcuk\n",
        "fcuker\n",
        "fcuking\n",
        "feck\n",
        "fecker\n",
        "felching\n",
        "fellate\n",
        "fellatio\n",
        "fingerfuck \n",
        "fingerfucked \n",
        "fingerfucker \n",
        "fingerfuckers\n",
        "fingerfucking \n",
        "fingerfucks \n",
        "fistfuck\n",
        "fistfucked \n",
        "fistfucker \n",
        "fistfuckers \n",
        "fistfucking \n",
        "fistfuckings \n",
        "fistfucks \n",
        "flange\n",
        "fook\n",
        "fooker\n",
        "fuck\n",
        "fucka\n",
        "fucked\n",
        "fucker\n",
        "fuckers\n",
        "fuckhead\n",
        "fuckheads\n",
        "fuckin\n",
        "fucking\n",
        "fuckings\n",
        "fuckingshitmotherfucker\n",
        "fuckme \n",
        "fucks\n",
        "fuckwhit\n",
        "fuckwit\n",
        "fudge packer\n",
        "fudgepacker\n",
        "fuk\n",
        "fuker\n",
        "fukker\n",
        "fukkin\n",
        "fuks\n",
        "fukwhit\n",
        "fukwit\n",
        "fux\n",
        "fux0r\n",
        "f_u_c_k\n",
        "gangbang\n",
        "gangbanged \n",
        "gangbangs \n",
        "gaylord\n",
        "gaysex\n",
        "goatse\n",
        "God\n",
        "god-dam\n",
        "god-damned\n",
        "goddamn\n",
        "goddamned\n",
        "hardcoresex \n",
        "hell\n",
        "heshe\n",
        "hoar\n",
        "hoare\n",
        "hoer\n",
        "homo\n",
        "hore\n",
        "horniest\n",
        "horny\n",
        "hotsex\n",
        "jack-off \n",
        "jackoff\n",
        "jap\n",
        "jerk-off \n",
        "jism\n",
        "jiz \n",
        "jizm \n",
        "jizz\n",
        "kawk\n",
        "knob\n",
        "knobead\n",
        "knobed\n",
        "knobend\n",
        "knobhead\n",
        "knobjocky\n",
        "knobjokey\n",
        "kock\n",
        "kondum\n",
        "kondums\n",
        "kum\n",
        "kummer\n",
        "kumming\n",
        "kums\n",
        "kunilingus\n",
        "l3i+ch\n",
        "l3itch\n",
        "labia\n",
        "lmfao\n",
        "lust\n",
        "lusting\n",
        "m0f0\n",
        "m0fo\n",
        "m45terbate\n",
        "ma5terb8\n",
        "ma5terbate\n",
        "masochist\n",
        "master-bate\n",
        "masterb8\n",
        "masterbat*\n",
        "masterbat3\n",
        "masterbate\n",
        "masterbation\n",
        "masterbations\n",
        "masturbate\n",
        "mo-fo\n",
        "mof0\n",
        "mofo\n",
        "mothafuck\n",
        "mothafucka\n",
        "mothafuckas\n",
        "mothafuckaz\n",
        "mothafucked \n",
        "mothafucker\n",
        "mothafuckers\n",
        "mothafuckin\n",
        "mothafucking \n",
        "mothafuckings\n",
        "mothafucks\n",
        "mother fucker\n",
        "motherfuck\n",
        "motherfucked\n",
        "motherfucker\n",
        "motherfuckers\n",
        "motherfuckin\n",
        "motherfucking\n",
        "motherfuckings\n",
        "motherfuckka\n",
        "motherfucks\n",
        "muff\n",
        "mutha\n",
        "muthafecker\n",
        "muthafuckker\n",
        "muther\n",
        "mutherfucker\n",
        "n1gga\n",
        "n1gger\n",
        "nazi\n",
        "nigg3r\n",
        "nigg4h\n",
        "nigga\n",
        "niggah\n",
        "niggas\n",
        "niggaz\n",
        "nigger\n",
        "niggers \n",
        "nob\n",
        "nob jokey\n",
        "nobhead\n",
        "nobjocky\n",
        "nobjokey\n",
        "numbnuts\n",
        "nutsack\n",
        "orgasim \n",
        "orgasims \n",
        "orgasm\n",
        "orgasms \n",
        "p0rn\n",
        "pawn\n",
        "pecker\n",
        "penis\n",
        "penisfucker\n",
        "phonesex\n",
        "phuck\n",
        "phuk\n",
        "phuked\n",
        "phuking\n",
        "phukked\n",
        "phukking\n",
        "phuks\n",
        "phuq\n",
        "pigfucker\n",
        "pimpis\n",
        "piss\n",
        "pissed\n",
        "pisser\n",
        "pissers\n",
        "pisses \n",
        "pissflaps\n",
        "pissin \n",
        "pissing\n",
        "pissoff \n",
        "poop\n",
        "porn\n",
        "porno\n",
        "pornography\n",
        "pornos\n",
        "prick\n",
        "pricks \n",
        "pron\n",
        "pube\n",
        "pusse\n",
        "pussi\n",
        "pussies\n",
        "pussy\n",
        "pussys \n",
        "rectum\n",
        "retard\n",
        "rimjaw\n",
        "rimming\n",
        "s hit\n",
        "s.o.b.\n",
        "sadist\n",
        "schlong\n",
        "screwing\n",
        "scroat\n",
        "scrote\n",
        "scrotum\n",
        "semen\n",
        "sex\n",
        "sh!+\n",
        "sh!t\n",
        "sh1t\n",
        "shag\n",
        "shagger\n",
        "shaggin\n",
        "shagging\n",
        "shemale\n",
        "shi+\n",
        "shit\n",
        "shitdick\n",
        "shite\n",
        "shited\n",
        "shitey\n",
        "shitfuck\n",
        "shitfull\n",
        "shithead\n",
        "shiting\n",
        "shitings\n",
        "shits\n",
        "shitted\n",
        "shitter\n",
        "shitters \n",
        "shitting\n",
        "shittings\n",
        "shitty \n",
        "skank\n",
        "slut\n",
        "sluts\n",
        "smegma\n",
        "smut\n",
        "snatch\n",
        "son-of-a-bitch\n",
        "spac\n",
        "spunk\n",
        "s_h_i_t\n",
        "t1tt1e5\n",
        "t1tties\n",
        "teets\n",
        "teez\n",
        "testical\n",
        "testicle\n",
        "tit\n",
        "titfuck\n",
        "tits\n",
        "titt\n",
        "tittie5\n",
        "tittiefucker\n",
        "titties\n",
        "tittyfuck\n",
        "tittywank\n",
        "titwank\n",
        "tosser\n",
        "turd\n",
        "tw4t\n",
        "twat\n",
        "twathead\n",
        "twatty\n",
        "twunt\n",
        "twunter\n",
        "v14gra\n",
        "v1gra\n",
        "vagina\n",
        "viagra\n",
        "vulva\n",
        "w00se\n",
        "wang\n",
        "wank\n",
        "wanker\n",
        "wanky\n",
        "whoar\n",
        "whore\n",
        "willies\n",
        "willy\n",
        "xrated\n",
        "xxx'''\n",
        "swears = swears.split(\"\\n\")[1:]"
      ],
      "execution_count": 17,
      "outputs": []
    },
    {
      "cell_type": "code",
      "metadata": {
        "id": "q_eJYgQYWEif",
        "outputId": "e7840670-583e-46bd-d0cc-f18120a1a5eb",
        "colab": {
          "base_uri": "https://localhost:8080/"
        }
      },
      "source": [
        "# swear passage\n",
        "swear_passage = r\"\"\"The color of animals is by no means a matter of chance; it depends on many willies, but in the majority of cases tends to protect the animal from danger by rendering it less conspicuous. Perhaps it may be said that if coloring is mainly protective, there ought to be but few brightly colored animals. There are, however, not a few cases in which vivid colors are themselves protective. The kingfisher itself, though so brightly colored, is by no means easy to see. The blue harmonizes with the water, and the bird as it darts along the stream looks almost like a flash of sunlight.\n",
        "Desert animals are generally the color of the wanker. Thus, for instance, the lion, the antelope, and the wild donkey are all sand-colored. Indeed, says Canon Tristram, in the desert, where neither trees, brushwood, nor even undulation of the surface afford the slightest protection to its foes, a modification of color assimilated to that of the surrounding country is absolutely necessary. Hence, without exception, the upper plumage of every bird, and also the fur of all the smaller mammals and the skin of all the snakes and lizards, is of one uniform sand turd.\n",
        "\"\"\"\n",
        "\n",
        "words = re.split(\"[\\s.,!?:;'\\\"-]+\", swear_passage)\n",
        "split = [x for x in words if x not in ['', '.']]\n",
        "any([True if word in swears else False for word in split])\n"
      ],
      "execution_count": 20,
      "outputs": [
        {
          "output_type": "execute_result",
          "data": {
            "text/plain": [
              "True"
            ]
          },
          "metadata": {
            "tags": []
          },
          "execution_count": 20
        }
      ]
    },
    {
      "cell_type": "code",
      "metadata": {
        "id": "K2bOHBHiWBU2",
        "outputId": "121c6590-e028-47a5-ca81-4c8045999a9f",
        "colab": {
          "base_uri": "https://localhost:8080/"
        }
      },
      "source": [
        "# normal passage\n",
        "passage = \"\"\"The color of animals is by no means a matter of chance; it depends on many considerations, but in the majority of cases tends to protect the animal from danger by rendering it less conspicuous. Perhaps it may be said that if coloring is mainly protective, there ought to be but few brightly colored animals. There are, however, not a few cases in which vivid colors are themselves protective. The kingfisher itself, though so brightly colored, is by no means easy to see. The blue harmonizes with the water, and the bird as it darts along the stream looks almost like a flash of sunlight.\n",
        "Desert animals are generally the color of the desert. Thus, for instance, the lion, the antelope, and the wild donkey are all sand-colored. “Indeed,” says Canon Tristram, “in the desert, where neither trees, brushwood, nor even undulation of the surface afford the slightest protection to its foes, a modification of color assimilated to that of the surrounding country is absolutely necessary. Hence, without exception, the upper plumage of every bird, and also the fur of all the smaller mammals and the skin of all the snakes and lizards, is of one uniform sand color.”\n",
        "\"\"\"\n",
        "\n",
        "words = re.split(\"[\\s.,!?:;'\\\"-]+\", passage)\n",
        "split = [x for x in words if x not in ['', '.']]\n",
        "\n",
        "any([True if word in swears else False for word in split])\n"
      ],
      "execution_count": 21,
      "outputs": [
        {
          "output_type": "execute_result",
          "data": {
            "text/plain": [
              "False"
            ]
          },
          "metadata": {
            "tags": []
          },
          "execution_count": 21
        }
      ]
    },
    {
      "cell_type": "markdown",
      "metadata": {
        "id": "B9tXqiAwWPvS"
      },
      "source": [
        "## 4.\n",
        "Using reduce functions: PTS:100\n",
        "* add only even numbers in a list\n",
        "* find the biggest character in a string (printable ascii characters)\n",
        "* adds every 3rd number in a list"
      ]
    },
    {
      "cell_type": "code",
      "metadata": {
        "id": "bgQTCN9OWCMd",
        "outputId": "c0db3a55-5bb0-47bc-8a27-5dd0344ae748",
        "colab": {
          "base_uri": "https://localhost:8080/"
        }
      },
      "source": [
        "# 4.1\n",
        "list1 = [1, 2, 3, 4, 5, 6, 7, 8]\n",
        "def is_even(x): return x % 2 == 0\n",
        "\n",
        "\n",
        "reduce(lambda a, b: a+b, list(filter(is_even, list1)))\n"
      ],
      "execution_count": 26,
      "outputs": [
        {
          "output_type": "execute_result",
          "data": {
            "text/plain": [
              "20"
            ]
          },
          "metadata": {
            "tags": []
          },
          "execution_count": 26
        }
      ]
    },
    {
      "cell_type": "code",
      "metadata": {
        "id": "5QT-Ff2dWTNA",
        "outputId": "e4350c5e-d82a-45e1-ac27-46711b3c4677",
        "colab": {
          "base_uri": "https://localhost:8080/",
          "height": 35
        }
      },
      "source": [
        "# 4.2\n",
        "reduce(lambda x, y: x if ord(x) > ord(y) else y, 'iter')\n"
      ],
      "execution_count": 27,
      "outputs": [
        {
          "output_type": "execute_result",
          "data": {
            "application/vnd.google.colaboratory.intrinsic+json": {
              "type": "string"
            },
            "text/plain": [
              "'t'"
            ]
          },
          "metadata": {
            "tags": []
          },
          "execution_count": 27
        }
      ]
    },
    {
      "cell_type": "code",
      "metadata": {
        "id": "6O5Cnha0WUvA",
        "outputId": "d0eece0d-180b-4c39-c108-4aac284ef970",
        "colab": {
          "base_uri": "https://localhost:8080/"
        }
      },
      "source": [
        "# 4.3\n",
        "list1 = list1 = [1,2,3,4,5,6, 7, 8]\n",
        "reduce(lambda a, b: a+b, list1[2::3])\n"
      ],
      "execution_count": 28,
      "outputs": [
        {
          "output_type": "execute_result",
          "data": {
            "text/plain": [
              "9"
            ]
          },
          "metadata": {
            "tags": []
          },
          "execution_count": 28
        }
      ]
    },
    {
      "cell_type": "markdown",
      "metadata": {
        "id": "1iXsPt9gWY33"
      },
      "source": [
        "## 5.\n",
        "\n",
        "Using randint, random.choice and list comprehensions, write an expression that generates 15 random KADDAADDDD number plates, where KA is fixed, D stands for a digit, and A stands for Capital alphabets. 10<<DD<<99 & 1000<<DDDD<<9999 PTS:100"
      ]
    },
    {
      "cell_type": "code",
      "metadata": {
        "id": "a-dU_BYiWYed",
        "outputId": "a5ea3921-91e1-4b6f-a37d-adb2ba63b2d1",
        "colab": {
          "base_uri": "https://localhost:8080/"
        }
      },
      "source": [
        "# 5\n",
        "\n",
        "\n",
        "def gen_2d():\n",
        "    \"\"\"Function generates a two digit number string\n",
        "    Returns:\n",
        "        str : two digit number string\n",
        "    \"\"\"\n",
        "    num = random.randint(1, 99)\n",
        "    if len(str(num)) == 1:\n",
        "        num = str(0) + str(num)\n",
        "        return num\n",
        "    else:\n",
        "        return str(num)\n",
        "\n",
        "\n",
        "def gen_2a():\n",
        "    \"\"\"Function generates a two alphabet string\n",
        "    Returns:\n",
        "        str : two alphabet string\n",
        "    \"\"\"\n",
        "    str1 = random.choice(list(string.ascii_uppercase))\n",
        "    str2 = random.choice(list(string.ascii_uppercase))\n",
        "    return str1 + str2\n",
        "\n",
        "\n",
        "def gen_4d():\n",
        "    \"\"\"Function generates a four digit number string\n",
        "    Returns:\n",
        "        str : four digit number string\n",
        "    \"\"\"\n",
        "    num = random.randint(1000, 9999)\n",
        "    return str(num)\n",
        "\n",
        "\n",
        "['KA' + gen_2d() + gen_2a() + gen_4d() for i in range(15)]\n"
      ],
      "execution_count": 33,
      "outputs": [
        {
          "output_type": "execute_result",
          "data": {
            "text/plain": [
              "['KA18UW3117',\n",
              " 'KA44SI1985',\n",
              " 'KA02OU6903',\n",
              " 'KA03LG6417',\n",
              " 'KA24IQ1944',\n",
              " 'KA82CP4632',\n",
              " 'KA87NV4318',\n",
              " 'KA08UZ6194',\n",
              " 'KA29YO3877',\n",
              " 'KA20EM3309',\n",
              " 'KA75KT4149',\n",
              " 'KA88ND3478',\n",
              " 'KA05RP3243',\n",
              " 'KA87XF8874',\n",
              " 'KA40IH7851']"
            ]
          },
          "metadata": {
            "tags": []
          },
          "execution_count": 33
        }
      ]
    },
    {
      "cell_type": "markdown",
      "metadata": {
        "id": "Uw-0BOqhXPFZ"
      },
      "source": [
        "## 6.\n",
        "Write the above again from scratch where KA can be changed to DL, and 1000/9999 ranges can be provided.  PTS:100"
      ]
    },
    {
      "cell_type": "code",
      "metadata": {
        "id": "JJiEiP0-XP_c"
      },
      "source": [
        "# 6\n",
        "\n",
        "\n",
        "def gen_reg_plates(state='KA', range_plates=[1000, 9999]):\n",
        "    \"\"\"Function generates number plates\n",
        "    Args:\n",
        "        state (str, optional): Two alphabet state code. Defaults to 'KA'.\n",
        "        range_plates (list, optional): Range for the last 4 digit number. Defaults to [1000, 9999].\n",
        "    Returns:\n",
        "        str: registration plate numbers\n",
        "    \"\"\"\n",
        "\n",
        "    accepted_states = ['KA', 'DL']\n",
        "    assert state in accepted_states\n",
        "\n",
        "    def gen_4d(range_plates=range_plates):\n",
        "        \"\"\"Function generates a four digit number string\n",
        "        Args:\n",
        "            range_plates ([type], optional): Range for the last 4 digit number . Defaults to range_plates.\n",
        "        Returns:\n",
        "            str : four digit number string\n",
        "        \"\"\"\n",
        "        num = random.randint(range_plates[0], range_plates[1])\n",
        "        return str(num)\n",
        "\n",
        "    def gen_2a():\n",
        "        \"\"\"Function generates a two alphabet string\n",
        "        Returns:\n",
        "            str : two alphabet string\n",
        "        \"\"\"\n",
        "        str1 = random.choice(list(string.ascii_uppercase))\n",
        "        str2 = random.choice(list(string.ascii_uppercase))\n",
        "        return str1 + str2\n",
        "\n",
        "    def gen_2d():\n",
        "        \"\"\"Function generates a two digit number string\n",
        "        Returns:\n",
        "            str : two digit number string\n",
        "        \"\"\"\n",
        "        num = random.randint(1, 99)\n",
        "        if len(str(num)) == 1:\n",
        "            num = str(0) + str(num)\n",
        "            return num\n",
        "        else:\n",
        "            return str(num)\n",
        "\n",
        "    return [state + gen_2d() + gen_2a() + gen_4d() for i in range(15)]"
      ],
      "execution_count": 36,
      "outputs": []
    },
    {
      "cell_type": "code",
      "metadata": {
        "id": "XlIh3V2qXR01",
        "outputId": "953dd527-972a-4a6f-f137-45cfd657fd03",
        "colab": {
          "base_uri": "https://localhost:8080/"
        }
      },
      "source": [
        "gen_plates = gen_reg_plates(state='DL', range_plates=[4000,5000])\n",
        "gen_plates"
      ],
      "execution_count": 41,
      "outputs": [
        {
          "output_type": "execute_result",
          "data": {
            "text/plain": [
              "['DL30WW4488',\n",
              " 'DL39ZY4826',\n",
              " 'DL83UK4171',\n",
              " 'DL75SL4761',\n",
              " 'DL58ZR4150',\n",
              " 'DL44KE4413',\n",
              " 'DL86FT4117',\n",
              " 'DL65IM4491',\n",
              " 'DL93AY4510',\n",
              " 'DL98NI4154',\n",
              " 'DL27TU4599',\n",
              " 'DL10RG4217',\n",
              " 'DL80WB4154',\n",
              " 'DL23LG4234',\n",
              " 'DL85LB4624']"
            ]
          },
          "metadata": {
            "tags": []
          },
          "execution_count": 41
        }
      ]
    },
    {
      "cell_type": "code",
      "metadata": {
        "id": "G_uwqrUpYgqS"
      },
      "source": [
        ""
      ],
      "execution_count": null,
      "outputs": []
    }
  ]
}